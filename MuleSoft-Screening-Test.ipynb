{
 "cells": [
  {
   "cell_type": "markdown",
   "id": "df2741d4",
   "metadata": {},
   "source": [
    "## SQLite Database Management"
   ]
  },
  {
   "cell_type": "markdown",
   "id": "e8cda7a0",
   "metadata": {},
   "source": [
    "Create a database, store your interesting movie names with the names of lead actor, actress, year of release and the director name. Once you have stored the details, then use any programming language of your choice to retrieve the details."
   ]
  },
  {
   "cell_type": "markdown",
   "id": "e37e0b2e",
   "metadata": {},
   "source": [
    "### Connect to the SQLite database "
   ]
  },
  {
   "cell_type": "code",
   "execution_count": 1,
   "id": "8c5b870d",
   "metadata": {},
   "outputs": [],
   "source": [
    "import pandas as pd\n",
    "import numpy as np\n",
    "import sqlite3 as sql"
   ]
  },
  {
   "cell_type": "markdown",
   "id": "dab02fc8",
   "metadata": {},
   "source": [
    "### Creating a new SQLite database"
   ]
  },
  {
   "cell_type": "code",
   "execution_count": 2,
   "id": "2f797fe8",
   "metadata": {},
   "outputs": [],
   "source": [
    "database = \"Movies.db\"\n",
    "con = sql.connect(database)\n",
    "cur = con.cursor()"
   ]
  },
  {
   "cell_type": "markdown",
   "id": "6c65c027",
   "metadata": {},
   "source": [
    "### Creating a new table"
   ]
  },
  {
   "cell_type": "code",
   "execution_count": 3,
   "id": "44a39c12",
   "metadata": {},
   "outputs": [
    {
     "data": {
      "text/plain": [
       "<sqlite3.Cursor at 0x13e578b37a0>"
      ]
     },
     "execution_count": 3,
     "metadata": {},
     "output_type": "execute_result"
    }
   ],
   "source": [
    "cur.execute(\"DROP TABLE IF EXISTS Movies\")"
   ]
  },
  {
   "cell_type": "code",
   "execution_count": 4,
   "id": "b0cf5242",
   "metadata": {},
   "outputs": [],
   "source": [
    "table = \"\"\" CREATE TABLE Movies (\n",
    "            Moive_Name VARCHAR(50) NOT NULL,\n",
    "            Actor_Name CHAR(25) NOT NULL,\n",
    "            Actress_Name CHAR(25),\n",
    "            Year_of_Release INT NOT NULL,\n",
    "            Director_Name CHAR(25) NOT NULL\n",
    "            );\"\"\""
   ]
  },
  {
   "cell_type": "code",
   "execution_count": 5,
   "id": "e03595bb",
   "metadata": {},
   "outputs": [
    {
     "data": {
      "text/plain": [
       "<sqlite3.Cursor at 0x13e578b37a0>"
      ]
     },
     "execution_count": 5,
     "metadata": {},
     "output_type": "execute_result"
    }
   ],
   "source": [
    "cur.execute(table)"
   ]
  },
  {
   "cell_type": "code",
   "execution_count": 6,
   "id": "25a7ece2",
   "metadata": {},
   "outputs": [
    {
     "data": {
      "text/html": [
       "<div>\n",
       "<style scoped>\n",
       "    .dataframe tbody tr th:only-of-type {\n",
       "        vertical-align: middle;\n",
       "    }\n",
       "\n",
       "    .dataframe tbody tr th {\n",
       "        vertical-align: top;\n",
       "    }\n",
       "\n",
       "    .dataframe thead th {\n",
       "        text-align: right;\n",
       "    }\n",
       "</style>\n",
       "<table border=\"1\" class=\"dataframe\">\n",
       "  <thead>\n",
       "    <tr style=\"text-align: right;\">\n",
       "      <th></th>\n",
       "      <th>Moive_Name</th>\n",
       "      <th>Actor_Name</th>\n",
       "      <th>Actress_Name</th>\n",
       "      <th>Year_of_Release</th>\n",
       "      <th>Director_Name</th>\n",
       "    </tr>\n",
       "  </thead>\n",
       "  <tbody>\n",
       "  </tbody>\n",
       "</table>\n",
       "</div>"
      ],
      "text/plain": [
       "Empty DataFrame\n",
       "Columns: [Moive_Name, Actor_Name, Actress_Name, Year_of_Release, Director_Name]\n",
       "Index: []"
      ]
     },
     "execution_count": 6,
     "metadata": {},
     "output_type": "execute_result"
    }
   ],
   "source": [
    "query = ''' SELECT * FROM Movies'''\n",
    "df = pd.read_sql_query(query, con)\n",
    "df"
   ]
  },
  {
   "cell_type": "markdown",
   "id": "20f4f18b",
   "metadata": {},
   "source": [
    "### Inserting data into Movies table"
   ]
  },
  {
   "cell_type": "code",
   "execution_count": 7,
   "id": "bac11754",
   "metadata": {},
   "outputs": [
    {
     "data": {
      "text/plain": [
       "<sqlite3.Cursor at 0x13e578b37a0>"
      ]
     },
     "execution_count": 7,
     "metadata": {},
     "output_type": "execute_result"
    }
   ],
   "source": [
    "cur.execute('''INSERT INTO Movies VALUES ('Inception', 'Leonardo DiCaprio', '', '2010','Christopher Nolan')''')\n",
    "cur.execute('''INSERT INTO Movies VALUES ('The Dark Knight', 'cristian bale', '', '2008','Christopher Nolan')''')\n",
    "cur.execute('''INSERT INTO Movies VALUES ('The Gray Man', 'Ryan Gosling, Chris Evans, Dhanush', 'Ana de Armas', '2022',' Joe Russo, Anthony Russo')''')\n",
    "cur.execute('''INSERT INTO Movies VALUES ('Shang-Chi and The Legend of The Ten Rings', 'Simu Liu', 'Awkwafina', '2021',' Destin Daniel Cretton')''')\n",
    "cur.execute('''INSERT INTO Movies VALUES ('The Imitation Game', 'Benedict Cumberbatch', 'Keira Knightley', '2014','Morten Tyldum')''')\n",
    "cur.execute('''INSERT INTO Movies VALUES ('The Space Between Us', 'Asa Butterfield.', '', '2017','Peter Chelsom')''')\n",
    "cur.execute('''INSERT INTO Movies VALUES ('Dune', 'Timothée Chalamet', 'Zendaya', '2021','Denis Villeneuve')''')\n",
    "cur.execute('''INSERT INTO Movies VALUES ('Dejavu', 'Arulnithi', 'smruthi', '2022','Arvindh')''')\n",
    "cur.execute('''INSERT INTO Movies VALUES ('Central Intelligence', 'Dwayne Johnson, Kevin Hart', '', '2016','Rawson Marshall Thurber')''')\n",
    "cur.execute('''INSERT INTO Movies VALUES ('No Time To Die', 'Daniel Craig', 'Léa Seydoux', '2021','Cary Joji Fukunaga')''')"
   ]
  },
  {
   "cell_type": "code",
   "execution_count": 8,
   "id": "d997b66b",
   "metadata": {},
   "outputs": [
    {
     "data": {
      "text/html": [
       "<div>\n",
       "<style scoped>\n",
       "    .dataframe tbody tr th:only-of-type {\n",
       "        vertical-align: middle;\n",
       "    }\n",
       "\n",
       "    .dataframe tbody tr th {\n",
       "        vertical-align: top;\n",
       "    }\n",
       "\n",
       "    .dataframe thead th {\n",
       "        text-align: right;\n",
       "    }\n",
       "</style>\n",
       "<table border=\"1\" class=\"dataframe\">\n",
       "  <thead>\n",
       "    <tr style=\"text-align: right;\">\n",
       "      <th></th>\n",
       "      <th>Moive_Name</th>\n",
       "      <th>Actor_Name</th>\n",
       "      <th>Actress_Name</th>\n",
       "      <th>Year_of_Release</th>\n",
       "      <th>Director_Name</th>\n",
       "    </tr>\n",
       "  </thead>\n",
       "  <tbody>\n",
       "    <tr>\n",
       "      <th>0</th>\n",
       "      <td>Inception</td>\n",
       "      <td>Leonardo DiCaprio</td>\n",
       "      <td></td>\n",
       "      <td>2010</td>\n",
       "      <td>Christopher Nolan</td>\n",
       "    </tr>\n",
       "    <tr>\n",
       "      <th>1</th>\n",
       "      <td>The Dark Knight</td>\n",
       "      <td>cristian bale</td>\n",
       "      <td></td>\n",
       "      <td>2008</td>\n",
       "      <td>Christopher Nolan</td>\n",
       "    </tr>\n",
       "    <tr>\n",
       "      <th>2</th>\n",
       "      <td>The Gray Man</td>\n",
       "      <td>Ryan Gosling, Chris Evans, Dhanush</td>\n",
       "      <td>Ana de Armas</td>\n",
       "      <td>2022</td>\n",
       "      <td>Joe Russo, Anthony Russo</td>\n",
       "    </tr>\n",
       "    <tr>\n",
       "      <th>3</th>\n",
       "      <td>Shang-Chi and The Legend of The Ten Rings</td>\n",
       "      <td>Simu Liu</td>\n",
       "      <td>Awkwafina</td>\n",
       "      <td>2021</td>\n",
       "      <td>Destin Daniel Cretton</td>\n",
       "    </tr>\n",
       "    <tr>\n",
       "      <th>4</th>\n",
       "      <td>The Imitation Game</td>\n",
       "      <td>Benedict Cumberbatch</td>\n",
       "      <td>Keira Knightley</td>\n",
       "      <td>2014</td>\n",
       "      <td>Morten Tyldum</td>\n",
       "    </tr>\n",
       "    <tr>\n",
       "      <th>5</th>\n",
       "      <td>The Space Between Us</td>\n",
       "      <td>Asa Butterfield.</td>\n",
       "      <td></td>\n",
       "      <td>2017</td>\n",
       "      <td>Peter Chelsom</td>\n",
       "    </tr>\n",
       "    <tr>\n",
       "      <th>6</th>\n",
       "      <td>Dune</td>\n",
       "      <td>Timothée Chalamet</td>\n",
       "      <td>Zendaya</td>\n",
       "      <td>2021</td>\n",
       "      <td>Denis Villeneuve</td>\n",
       "    </tr>\n",
       "    <tr>\n",
       "      <th>7</th>\n",
       "      <td>Dejavu</td>\n",
       "      <td>Arulnithi</td>\n",
       "      <td>smruthi</td>\n",
       "      <td>2022</td>\n",
       "      <td>Arvindh</td>\n",
       "    </tr>\n",
       "    <tr>\n",
       "      <th>8</th>\n",
       "      <td>Central Intelligence</td>\n",
       "      <td>Dwayne Johnson, Kevin Hart</td>\n",
       "      <td></td>\n",
       "      <td>2016</td>\n",
       "      <td>Rawson Marshall Thurber</td>\n",
       "    </tr>\n",
       "    <tr>\n",
       "      <th>9</th>\n",
       "      <td>No Time To Die</td>\n",
       "      <td>Daniel Craig</td>\n",
       "      <td>Léa Seydoux</td>\n",
       "      <td>2021</td>\n",
       "      <td>Cary Joji Fukunaga</td>\n",
       "    </tr>\n",
       "  </tbody>\n",
       "</table>\n",
       "</div>"
      ],
      "text/plain": [
       "                                  Moive_Name  \\\n",
       "0                                  Inception   \n",
       "1                            The Dark Knight   \n",
       "2                               The Gray Man   \n",
       "3  Shang-Chi and The Legend of The Ten Rings   \n",
       "4                         The Imitation Game   \n",
       "5                       The Space Between Us   \n",
       "6                                       Dune   \n",
       "7                                     Dejavu   \n",
       "8                       Central Intelligence   \n",
       "9                             No Time To Die   \n",
       "\n",
       "                           Actor_Name     Actress_Name  Year_of_Release  \\\n",
       "0                   Leonardo DiCaprio                              2010   \n",
       "1                       cristian bale                              2008   \n",
       "2  Ryan Gosling, Chris Evans, Dhanush     Ana de Armas             2022   \n",
       "3                            Simu Liu        Awkwafina             2021   \n",
       "4                Benedict Cumberbatch  Keira Knightley             2014   \n",
       "5                    Asa Butterfield.                              2017   \n",
       "6                   Timothée Chalamet          Zendaya             2021   \n",
       "7                           Arulnithi          smruthi             2022   \n",
       "8          Dwayne Johnson, Kevin Hart                              2016   \n",
       "9                        Daniel Craig      Léa Seydoux             2021   \n",
       "\n",
       "               Director_Name  \n",
       "0          Christopher Nolan  \n",
       "1          Christopher Nolan  \n",
       "2   Joe Russo, Anthony Russo  \n",
       "3      Destin Daniel Cretton  \n",
       "4              Morten Tyldum  \n",
       "5              Peter Chelsom  \n",
       "6           Denis Villeneuve  \n",
       "7                    Arvindh  \n",
       "8    Rawson Marshall Thurber  \n",
       "9         Cary Joji Fukunaga  "
      ]
     },
     "execution_count": 8,
     "metadata": {},
     "output_type": "execute_result"
    }
   ],
   "source": [
    "query = ''' SELECT * FROM Movies'''\n",
    "df = pd.read_sql_query(query, con)\n",
    "df"
   ]
  },
  {
   "cell_type": "markdown",
   "id": "e428b139",
   "metadata": {},
   "source": [
    "### Querying data from Movies table"
   ]
  },
  {
   "cell_type": "markdown",
   "id": "0fd2b7a5",
   "metadata": {},
   "source": [
    "Sorting Movies released after 2020"
   ]
  },
  {
   "cell_type": "code",
   "execution_count": 9,
   "id": "5d0f8abf-dc8c-49fc-b400-2106f52799e3",
   "metadata": {},
   "outputs": [],
   "source": [
    "query1 = ''' SELECT * FROM Movies WHERE Year_of_Release >= 2020'''"
   ]
  },
  {
   "cell_type": "code",
   "execution_count": 10,
   "id": "88b2f820",
   "metadata": {},
   "outputs": [
    {
     "data": {
      "text/html": [
       "<div>\n",
       "<style scoped>\n",
       "    .dataframe tbody tr th:only-of-type {\n",
       "        vertical-align: middle;\n",
       "    }\n",
       "\n",
       "    .dataframe tbody tr th {\n",
       "        vertical-align: top;\n",
       "    }\n",
       "\n",
       "    .dataframe thead th {\n",
       "        text-align: right;\n",
       "    }\n",
       "</style>\n",
       "<table border=\"1\" class=\"dataframe\">\n",
       "  <thead>\n",
       "    <tr style=\"text-align: right;\">\n",
       "      <th></th>\n",
       "      <th>Moive_Name</th>\n",
       "      <th>Actor_Name</th>\n",
       "      <th>Actress_Name</th>\n",
       "      <th>Year_of_Release</th>\n",
       "      <th>Director_Name</th>\n",
       "    </tr>\n",
       "  </thead>\n",
       "  <tbody>\n",
       "    <tr>\n",
       "      <th>0</th>\n",
       "      <td>The Gray Man</td>\n",
       "      <td>Ryan Gosling, Chris Evans, Dhanush</td>\n",
       "      <td>Ana de Armas</td>\n",
       "      <td>2022</td>\n",
       "      <td>Joe Russo, Anthony Russo</td>\n",
       "    </tr>\n",
       "    <tr>\n",
       "      <th>1</th>\n",
       "      <td>Shang-Chi and The Legend of The Ten Rings</td>\n",
       "      <td>Simu Liu</td>\n",
       "      <td>Awkwafina</td>\n",
       "      <td>2021</td>\n",
       "      <td>Destin Daniel Cretton</td>\n",
       "    </tr>\n",
       "    <tr>\n",
       "      <th>2</th>\n",
       "      <td>Dune</td>\n",
       "      <td>Timothée Chalamet</td>\n",
       "      <td>Zendaya</td>\n",
       "      <td>2021</td>\n",
       "      <td>Denis Villeneuve</td>\n",
       "    </tr>\n",
       "    <tr>\n",
       "      <th>3</th>\n",
       "      <td>Dejavu</td>\n",
       "      <td>Arulnithi</td>\n",
       "      <td>smruthi</td>\n",
       "      <td>2022</td>\n",
       "      <td>Arvindh</td>\n",
       "    </tr>\n",
       "    <tr>\n",
       "      <th>4</th>\n",
       "      <td>No Time To Die</td>\n",
       "      <td>Daniel Craig</td>\n",
       "      <td>Léa Seydoux</td>\n",
       "      <td>2021</td>\n",
       "      <td>Cary Joji Fukunaga</td>\n",
       "    </tr>\n",
       "  </tbody>\n",
       "</table>\n",
       "</div>"
      ],
      "text/plain": [
       "                                  Moive_Name  \\\n",
       "0                               The Gray Man   \n",
       "1  Shang-Chi and The Legend of The Ten Rings   \n",
       "2                                       Dune   \n",
       "3                                     Dejavu   \n",
       "4                             No Time To Die   \n",
       "\n",
       "                           Actor_Name  Actress_Name  Year_of_Release  \\\n",
       "0  Ryan Gosling, Chris Evans, Dhanush  Ana de Armas             2022   \n",
       "1                            Simu Liu     Awkwafina             2021   \n",
       "2                   Timothée Chalamet       Zendaya             2021   \n",
       "3                           Arulnithi       smruthi             2022   \n",
       "4                        Daniel Craig   Léa Seydoux             2021   \n",
       "\n",
       "               Director_Name  \n",
       "0   Joe Russo, Anthony Russo  \n",
       "1      Destin Daniel Cretton  \n",
       "2           Denis Villeneuve  \n",
       "3                    Arvindh  \n",
       "4         Cary Joji Fukunaga  "
      ]
     },
     "execution_count": 10,
     "metadata": {},
     "output_type": "execute_result"
    }
   ],
   "source": [
    "df = pd.read_sql_query(query1, con)\n",
    "df"
   ]
  },
  {
   "cell_type": "markdown",
   "id": "539e543a",
   "metadata": {},
   "source": [
    "Sorting movies with no female lead role"
   ]
  },
  {
   "cell_type": "code",
   "execution_count": 11,
   "id": "ebafc017",
   "metadata": {},
   "outputs": [],
   "source": [
    "query2 = ''' SELECT * FROM Movies WHERE Actress_Name ='' '''"
   ]
  },
  {
   "cell_type": "code",
   "execution_count": 12,
   "id": "e7a8cc3e",
   "metadata": {},
   "outputs": [
    {
     "data": {
      "text/html": [
       "<div>\n",
       "<style scoped>\n",
       "    .dataframe tbody tr th:only-of-type {\n",
       "        vertical-align: middle;\n",
       "    }\n",
       "\n",
       "    .dataframe tbody tr th {\n",
       "        vertical-align: top;\n",
       "    }\n",
       "\n",
       "    .dataframe thead th {\n",
       "        text-align: right;\n",
       "    }\n",
       "</style>\n",
       "<table border=\"1\" class=\"dataframe\">\n",
       "  <thead>\n",
       "    <tr style=\"text-align: right;\">\n",
       "      <th></th>\n",
       "      <th>Moive_Name</th>\n",
       "      <th>Actor_Name</th>\n",
       "      <th>Actress_Name</th>\n",
       "      <th>Year_of_Release</th>\n",
       "      <th>Director_Name</th>\n",
       "    </tr>\n",
       "  </thead>\n",
       "  <tbody>\n",
       "    <tr>\n",
       "      <th>0</th>\n",
       "      <td>Inception</td>\n",
       "      <td>Leonardo DiCaprio</td>\n",
       "      <td></td>\n",
       "      <td>2010</td>\n",
       "      <td>Christopher Nolan</td>\n",
       "    </tr>\n",
       "    <tr>\n",
       "      <th>1</th>\n",
       "      <td>The Dark Knight</td>\n",
       "      <td>cristian bale</td>\n",
       "      <td></td>\n",
       "      <td>2008</td>\n",
       "      <td>Christopher Nolan</td>\n",
       "    </tr>\n",
       "    <tr>\n",
       "      <th>2</th>\n",
       "      <td>The Space Between Us</td>\n",
       "      <td>Asa Butterfield.</td>\n",
       "      <td></td>\n",
       "      <td>2017</td>\n",
       "      <td>Peter Chelsom</td>\n",
       "    </tr>\n",
       "    <tr>\n",
       "      <th>3</th>\n",
       "      <td>Central Intelligence</td>\n",
       "      <td>Dwayne Johnson, Kevin Hart</td>\n",
       "      <td></td>\n",
       "      <td>2016</td>\n",
       "      <td>Rawson Marshall Thurber</td>\n",
       "    </tr>\n",
       "  </tbody>\n",
       "</table>\n",
       "</div>"
      ],
      "text/plain": [
       "             Moive_Name                  Actor_Name Actress_Name  \\\n",
       "0             Inception           Leonardo DiCaprio                \n",
       "1       The Dark Knight               cristian bale                \n",
       "2  The Space Between Us            Asa Butterfield.                \n",
       "3  Central Intelligence  Dwayne Johnson, Kevin Hart                \n",
       "\n",
       "   Year_of_Release            Director_Name  \n",
       "0             2010        Christopher Nolan  \n",
       "1             2008        Christopher Nolan  \n",
       "2             2017            Peter Chelsom  \n",
       "3             2016  Rawson Marshall Thurber  "
      ]
     },
     "execution_count": 12,
     "metadata": {},
     "output_type": "execute_result"
    }
   ],
   "source": [
    "df = pd.read_sql_query(query2, con)\n",
    "df"
   ]
  },
  {
   "cell_type": "markdown",
   "id": "3a409021",
   "metadata": {},
   "source": [
    "Selecting a movie with its Director's name"
   ]
  },
  {
   "cell_type": "code",
   "execution_count": 15,
   "id": "abb7ca94",
   "metadata": {},
   "outputs": [],
   "source": [
    "query3 = ''' SELECT * FROM Movies WHERE Director_Name == 'Christopher Nolan' '''"
   ]
  },
  {
   "cell_type": "code",
   "execution_count": 16,
   "id": "ab34eb99",
   "metadata": {},
   "outputs": [
    {
     "data": {
      "text/html": [
       "<div>\n",
       "<style scoped>\n",
       "    .dataframe tbody tr th:only-of-type {\n",
       "        vertical-align: middle;\n",
       "    }\n",
       "\n",
       "    .dataframe tbody tr th {\n",
       "        vertical-align: top;\n",
       "    }\n",
       "\n",
       "    .dataframe thead th {\n",
       "        text-align: right;\n",
       "    }\n",
       "</style>\n",
       "<table border=\"1\" class=\"dataframe\">\n",
       "  <thead>\n",
       "    <tr style=\"text-align: right;\">\n",
       "      <th></th>\n",
       "      <th>Moive_Name</th>\n",
       "      <th>Actor_Name</th>\n",
       "      <th>Actress_Name</th>\n",
       "      <th>Year_of_Release</th>\n",
       "      <th>Director_Name</th>\n",
       "    </tr>\n",
       "  </thead>\n",
       "  <tbody>\n",
       "    <tr>\n",
       "      <th>0</th>\n",
       "      <td>Inception</td>\n",
       "      <td>Leonardo DiCaprio</td>\n",
       "      <td></td>\n",
       "      <td>2010</td>\n",
       "      <td>Christopher Nolan</td>\n",
       "    </tr>\n",
       "    <tr>\n",
       "      <th>1</th>\n",
       "      <td>The Dark Knight</td>\n",
       "      <td>cristian bale</td>\n",
       "      <td></td>\n",
       "      <td>2008</td>\n",
       "      <td>Christopher Nolan</td>\n",
       "    </tr>\n",
       "  </tbody>\n",
       "</table>\n",
       "</div>"
      ],
      "text/plain": [
       "        Moive_Name         Actor_Name Actress_Name  Year_of_Release  \\\n",
       "0        Inception  Leonardo DiCaprio                          2010   \n",
       "1  The Dark Knight      cristian bale                          2008   \n",
       "\n",
       "       Director_Name  \n",
       "0  Christopher Nolan  \n",
       "1  Christopher Nolan  "
      ]
     },
     "execution_count": 16,
     "metadata": {},
     "output_type": "execute_result"
    }
   ],
   "source": [
    "df = pd.read_sql_query(query3, con)\n",
    "df"
   ]
  },
  {
   "cell_type": "code",
   "execution_count": null,
   "id": "c2246aba-5c3c-45e1-a91f-05285de36476",
   "metadata": {},
   "outputs": [],
   "source": []
  }
 ],
 "metadata": {
  "kernelspec": {
   "display_name": "Python 3 (ipykernel)",
   "language": "python",
   "name": "python3"
  },
  "language_info": {
   "codemirror_mode": {
    "name": "ipython",
    "version": 3
   },
   "file_extension": ".py",
   "mimetype": "text/x-python",
   "name": "python",
   "nbconvert_exporter": "python",
   "pygments_lexer": "ipython3",
   "version": "3.9.7"
  }
 },
 "nbformat": 4,
 "nbformat_minor": 5
}
